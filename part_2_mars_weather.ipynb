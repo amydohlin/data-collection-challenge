{
 "cells": [
  {
   "cell_type": "markdown",
   "metadata": {},
   "source": [
    "# Module 11 Challenge\n",
    "## Deliverable 2: Scrape and Analyze Mars Weather Data"
   ]
  },
  {
   "cell_type": "code",
   "execution_count": null,
   "metadata": {},
   "outputs": [],
   "source": [
    "# Import relevant libraries\n",
    "from splinter import Browser\n",
    "from bs4 import BeautifulSoup\n",
    "import matplotlib.pyplot as plt\n",
    "import pandas as pd"
   ]
  },
  {
   "cell_type": "code",
   "execution_count": null,
   "metadata": {},
   "outputs": [],
   "source": [
    "browser = Browser('chrome')"
   ]
  },
  {
   "cell_type": "markdown",
   "metadata": {},
   "source": [
    "### Step 1: Visit the Website\n",
    "\n",
    "Use automated browsing to visit the [Mars Temperature Data Site](https://static.bc-edx.com/data/web/mars_facts/temperature.html). Inspect the page to identify which elements to scrape.\n",
    "\n",
    "   > **Hint** To identify which elements to scrape, you might want to inspect the page by using Chrome DevTools to discover whether the table contains usable classes.\n"
   ]
  },
  {
   "cell_type": "code",
   "execution_count": null,
   "metadata": {},
   "outputs": [],
   "source": [
    "# Visit the website\n",
    "# https://static.bc-edx.com/data/web/mars_facts/temperature.html\n",
    "url = \"https://static.bc-edx.com/data/web/mars_facts/temperature.html\"\n",
    "browser.visit(url)"
   ]
  },
  {
   "cell_type": "markdown",
   "metadata": {},
   "source": [
    "### Step 2: Scrape the Table\n",
    "\n",
    "Create a Beautiful Soup object and use it to scrape the data in the HTML table.\n",
    "\n",
    "Note that this can also be achieved by using the Pandas `read_html` function. However, use Beautiful Soup here to continue sharpening your web scraping skills."
   ]
  },
  {
   "cell_type": "code",
   "execution_count": null,
   "metadata": {},
   "outputs": [],
   "source": [
    "# Create a Beautiful Soup Object\n",
    "\n",
    "# Gather the html from the browser\n",
    "html = browser.html\n",
    "\n",
    "# BeautifulSoup parser\n",
    "soup = BeautifulSoup(html, 'html.parser')\n",
    "\n",
    "# Check type of parser object\n",
    "print(type(soup))\n",
    "print('-------------')\n",
    "\n",
    "# Print parser to see html string\n",
    "print(soup)"
   ]
  },
  {
   "cell_type": "code",
   "execution_count": null,
   "metadata": {},
   "outputs": [],
   "source": [
    "# This is the code that was attempted for using BeautifulSoup but did not work.\n",
    "\n",
    "# Extract all rows of data\n",
    "\n",
    "# # Find the table element\n",
    "# table = soup.find('table')\n",
    "# if table:\n",
    "\n",
    "#     # Find all rows in the table\n",
    "#     rows = table.find_all('tr')\n",
    "\n",
    "#     # Store the table in a dictionary\n",
    "#     mars_weather = {}\n",
    "\n",
    "#     # Use for-loop to read each row and extract data\n",
    "#     for row in rows:\n",
    "#         row_heading = row.find('th')\n",
    "#         row_data = row.find('td', class_= 'data-row')\n",
    "    \n",
    "#         if row_heading and row_data:\n",
    "#             mars_weather[row_heading.text] = row_data\n",
    "        \n",
    "#     # Check if data was extracted (from Xpert Learning Assistant)\n",
    "#     if mars_weather:\n",
    "#         print(mars_weather)\n",
    "#     else:\n",
    "#         print('No data extracted')\n",
    "        \n",
    "# else:\n",
    "#     print('Table not found')\n",
    "\n",
    "# # Check that dictionary prints\n",
    "# print(mars_weather)\n"
   ]
  },
  {
   "cell_type": "code",
   "execution_count": null,
   "metadata": {},
   "outputs": [],
   "source": [
    "# Extract all table data using Pandas, the Beautiful Soup method did not work (code is still included above, \n",
    "# but commented out).\n",
    "\n",
    "# Read HTML table into a Pandas df. Use [0] to ensure the table is a table, and not a list. Display head to ensure it is\n",
    "# read correctly.\n",
    "\n",
    "weather_df = pd.read_html(url)[0]\n",
    "weather_df.head()"
   ]
  },
  {
   "cell_type": "markdown",
   "metadata": {},
   "source": [
    "### Step 3: Store the Data\n",
    "\n",
    "Assemble the scraped data into a Pandas DataFrame. The columns should have the same headings as the table on the website. Here’s an explanation of the column headings:\n",
    "\n",
    "* `id`: the identification number of a single transmission from the Curiosity rover\n",
    "* `terrestrial_date`: the date on Earth\n",
    "* `sol`: the number of elapsed sols (Martian days) since Curiosity landed on Mars\n",
    "* `ls`: the solar longitude\n",
    "* `month`: the Martian month\n",
    "* `min_temp`: the minimum temperature, in Celsius, of a single Martian day (sol)\n",
    "* `pressure`: The atmospheric pressure at Curiosity's location"
   ]
  },
  {
   "cell_type": "code",
   "execution_count": null,
   "metadata": {},
   "outputs": [],
   "source": [
    "# Create an empty list\n",
    "mars_weather = []\n",
    "\n",
    "# Loop through the scraped data to create a list of rows\n",
    "# Use iterrows() method\n",
    "for index, row in weather_df.iterrows():\n",
    "    \n",
    "#     Make a dictionary for the current row. Create keys that coordinate with the df's column names\n",
    "    row_data = {\n",
    "        \"ID\": row['id'],\n",
    "        \"Terrestrial Date (Earth Days)\": row['terrestrial_date'],\n",
    "        \"Sol (Martian Days)\": row['sol'],\n",
    "        \"Solar Longitude\": row['ls'],\n",
    "        \"Martian Month\": row['month'],\n",
    "        \"Min Temp Cel\": row['min_temp'],\n",
    "        \"Pressure\": row['pressure']\n",
    "    }\n",
    "    \n",
    "#     Append to mars_weather dictionary\n",
    "    mars_weather.append(row_data)\n",
    "mars_weather"
   ]
  },
  {
   "cell_type": "code",
   "execution_count": null,
   "metadata": {},
   "outputs": [],
   "source": [
    "# Create a Pandas DataFrame by using the list of rows and a list of the column names\n",
    "\n",
    "# Create the list of columns using the keys from the previous cell\n",
    "columns = ['ID', 'Terrestrial Date (Earth Days)', 'Sol (Martian Days)', 'Solar Longitude', 'Martian Month', 'Min Temp Cel', \n",
    "           'Pressure']\n",
    "\n",
    "# Use the list of rows from the previous cell, aka mars_weather\n",
    "# Create the Pandas df\n",
    "mars_weather_df = pd.DataFrame(mars_weather, columns = columns)\n",
    "\n"
   ]
  },
  {
   "cell_type": "code",
   "execution_count": null,
   "metadata": {},
   "outputs": [],
   "source": [
    "# Confirm DataFrame was created successfully\n",
    "# Display the df head()\n",
    "mars_weather_df"
   ]
  },
  {
   "cell_type": "markdown",
   "metadata": {},
   "source": [
    "### Step 4: Prepare Data for Analysis\n",
    "\n",
    "Examine the data types that are currently associated with each column. If necessary, cast (or convert) the data to the appropriate `datetime`, `int`, or `float` data types.\n",
    "\n",
    "  > **Hint** You can use the Pandas `astype` and `to_datetime` methods to accomplish this task.\n"
   ]
  },
  {
   "cell_type": "code",
   "execution_count": null,
   "metadata": {},
   "outputs": [],
   "source": [
    "# Examine data type of each column\n",
    "mars_weather_df.info()"
   ]
  },
  {
   "cell_type": "code",
   "execution_count": null,
   "metadata": {},
   "outputs": [],
   "source": [
    "# Change data types for data analysis\n",
    "\n",
    "# Change Terrestrial Date to datetime data type\n",
    "mars_weather_df['Terrestrial Date (Earth Days)'] = pd.to_datetime(mars_weather_df['Terrestrial Date (Earth Days)'], \n",
    "                                                                  dayfirst=False)\n",
    "\n",
    "mars_weather_df"
   ]
  },
  {
   "cell_type": "code",
   "execution_count": null,
   "metadata": {},
   "outputs": [],
   "source": [
    "# Confirm type changes were successful by examining data types again\n",
    "mars_weather_df.info()\n",
    "print('-------------------------------')\n",
    "mars_weather_df.head()"
   ]
  },
  {
   "cell_type": "markdown",
   "metadata": {},
   "source": [
    "### Step 5: Analyze the Data\n",
    "\n",
    "Analyze your dataset by using Pandas functions to answer the following questions:\n",
    "\n",
    "1. How many months exist on Mars?\n",
    "2. How many Martian (and not Earth) days worth of data exist in the scraped dataset?\n",
    "3. What are the coldest and the warmest months on Mars (at the location of Curiosity)? To answer this question:\n",
    "    * Find the average the minimum daily temperature for all of the months.\n",
    "    * Plot the results as a bar chart.\n",
    "4. Which months have the lowest and the highest atmospheric pressure on Mars? To answer this question:\n",
    "    * Find the average the daily atmospheric pressure of all the months.\n",
    "    * Plot the results as a bar chart.\n",
    "5. About how many terrestrial (Earth) days exist in a Martian year? To answer this question:\n",
    "    * Consider how many days elapse on Earth in the time that Mars circles the Sun once.\n",
    "    * Visually estimate the result by plotting the daily minimum temperature.\n"
   ]
  },
  {
   "cell_type": "code",
   "execution_count": null,
   "metadata": {},
   "outputs": [],
   "source": [
    "# 1. How many months are there on Mars?\n",
    "\n",
    "print(f'There are {mars_weather_df[\"Martian Month\"].nunique()} months on Mars.')"
   ]
  },
  {
   "cell_type": "code",
   "execution_count": null,
   "metadata": {},
   "outputs": [],
   "source": [
    "# 2. How many Martian days' worth of data are there?\n",
    "\n",
    "print(f'There are {mars_weather_df[\"Sol (Martian Days)\"].nunique()} Martian days worth of data in this data set.')"
   ]
  },
  {
   "cell_type": "code",
   "execution_count": null,
   "metadata": {},
   "outputs": [],
   "source": [
    "# 3. What is the average low temperature by month?\n",
    "\n",
    "# Use .groupby() to group the average low temp by month\n",
    "avg_temp = mars_weather_df.groupby(\"Martian Month\")[\"Min Temp Cel\"].mean()\n",
    "\n",
    "print(avg_temp)"
   ]
  },
  {
   "cell_type": "code",
   "execution_count": null,
   "metadata": {},
   "outputs": [],
   "source": [
    "# Plot the average temperature by month\n",
    "\n",
    "# Create simple df with avg temp by Martian month\n",
    "avg_temp_df = avg_temp.reset_index()\n",
    "avg_temp_df.rename(columns={'Min Temp Cel':'Min Temp Avg'}, inplace=True)\n",
    "\n",
    "# Plot using a bar chart\n",
    "avg_temp_df.plot(x='Martian Month', y='Min Temp Avg', kind='bar', color='blue')\n",
    "\n",
    "# Add labels and title\n",
    "plt.xlabel('Martian Month')\n",
    "plt.ylabel('Min Avg Temp Celsius')\n",
    "plt.title('Minimum Average Temperature (C) by Martian Month')\n",
    "\n",
    "# Save the plot\n",
    "plt.savefig('Mars_Weather_Results/min_avg_temp_by_month.png')\n",
    "\n",
    "# Show the plot\n",
    "plt.show()\n"
   ]
  },
  {
   "cell_type": "code",
   "execution_count": null,
   "metadata": {},
   "outputs": [],
   "source": [
    "# Identify the coldest and hottest months in Curiosity's location\n",
    "\n",
    "# Group by 'Martian Month' and find the minimum and maximum 'Min Temp Avg'\n",
    "coldest_month = avg_temp_df.groupby('Martian Month')['Min Temp Avg'].min()\n",
    "hottest_month = avg_temp_df.groupby('Martian Month')['Min Temp Avg'].max()\n",
    "\n",
    "# Find the coldest and hottest months using .idxmin() and .idxmax()\n",
    "# .idxmin() and .idxmax() find the min and max temperature and returns the corresponding month for each\n",
    "# From Xpert Learning Assistant\n",
    "coldest = coldest_month.idxmin()\n",
    "hottest = hottest_month.idxmax()\n",
    "\n",
    "print(\"Coldest Month:\", coldest)\n",
    "print(\"Hottest Month:\", hottest)"
   ]
  },
  {
   "cell_type": "code",
   "execution_count": null,
   "metadata": {},
   "outputs": [],
   "source": [
    "# 4. Average pressure by Martian month\n",
    "\n",
    "# Use .groupby to help get the avg pressure by month\n",
    "avg_pressure = mars_weather_df.groupby('Martian Month')['Pressure'].mean()\n",
    "\n",
    "print(avg_pressure)"
   ]
  },
  {
   "cell_type": "code",
   "execution_count": null,
   "metadata": {
    "scrolled": false
   },
   "outputs": [],
   "source": [
    "# Plot the average pressure by month\n",
    "\n",
    "# Create simple df with avg temp by Martian month\n",
    "avg_pressure_df =  avg_pressure.reset_index()\n",
    "avg_pressure_df.rename(columns={'Pressure':'Avg Pressure'}, inplace=True)\n",
    "\n",
    "# Plot using a bar chart\n",
    "avg_pressure_df.plot(x='Martian Month', y='Avg Pressure', kind='bar', color='green')\n",
    "\n",
    "# Add labels and title\n",
    "plt.xlabel('Martian Month')\n",
    "plt.ylabel('Avg Pressure')\n",
    "plt.title('Average Pressure by Martian Month')\n",
    "\n",
    "# Save the plot\n",
    "plt.savefig('Mars_Weather_Results/avg_pressure_by_month.png')\n",
    "\n",
    "# Show the plot\n",
    "plt.show()\n",
    "\n"
   ]
  },
  {
   "cell_type": "code",
   "execution_count": null,
   "metadata": {},
   "outputs": [],
   "source": [
    "# Use .groupby() to \n",
    "# sol_per_mmonth = mars_weather_df.groupby(\"Martian Month\")[\"Sol (Martian Days)\"].nunique()\n",
    "# sol_per_mmonth\n",
    "\n",
    "# Try mars_weather_df.groupby(\"Solar Longitude\")[\"Martian Month\"].value_counts() to see how many times\n",
    "# month_counts = mars_weather_df.groupby(\"Solar Longitude\")[\"Martian Month\"].value_counts()\n",
    "# month_counts"
   ]
  },
  {
   "cell_type": "code",
   "execution_count": null,
   "metadata": {},
   "outputs": [],
   "source": [
    "# 5. How many terrestrial (earth) days are there in a Martian year?\n",
    "\n",
    "# Using Xpert Learning Assistant\n",
    "# Create variable for Earth day minutes and Sol minutes (earth day: 24(hours)*60 = 1440 minutes;\n",
    "#     sol = 24 hours and 39 min = 24.65 hours * 60 = 1479 minutes)\n",
    "\n",
    "# Calculate sol in a martian year\n",
    "\n",
    "# Convert sol to earth days\n",
    "\n",
    "# Calculate Martian year in earth days\n"
   ]
  },
  {
   "cell_type": "markdown",
   "metadata": {},
   "source": [
    "On average, the third month has the coldest minimum temperature on Mars, and the eighth month is the warmest. But it is always very cold there in human terms!\n",
    "\n"
   ]
  },
  {
   "cell_type": "markdown",
   "metadata": {},
   "source": [
    "Atmospheric pressure is, on average, lowest in the sixth month and highest in the ninth."
   ]
  },
  {
   "cell_type": "markdown",
   "metadata": {},
   "source": [
    "The distance from peak to peak is roughly 1425-750, or 675 days. A year on Mars appears to be about 675 days from the plot. Internet search confirms that a Mars year is equivalent to 687 earth days."
   ]
  },
  {
   "cell_type": "markdown",
   "metadata": {},
   "source": [
    "### Step 6: Save the Data\n",
    "\n",
    "Export the DataFrame to a CSV file."
   ]
  },
  {
   "cell_type": "code",
   "execution_count": null,
   "metadata": {},
   "outputs": [],
   "source": [
    "# Write the data to a CSV\n",
    "mars_weather_df.to_csv('Mars_Weather_Results/mars_weather_data.csv', index=False)"
   ]
  },
  {
   "cell_type": "code",
   "execution_count": null,
   "metadata": {},
   "outputs": [],
   "source": [
    "browser.quit()"
   ]
  },
  {
   "cell_type": "code",
   "execution_count": null,
   "metadata": {},
   "outputs": [],
   "source": []
  }
 ],
 "metadata": {
  "kernelspec": {
   "display_name": "Python 3 (ipykernel)",
   "language": "python",
   "name": "python3"
  },
  "language_info": {
   "codemirror_mode": {
    "name": "ipython",
    "version": 3
   },
   "file_extension": ".py",
   "mimetype": "text/x-python",
   "name": "python",
   "nbconvert_exporter": "python",
   "pygments_lexer": "ipython3",
   "version": "3.10.13"
  },
  "vscode": {
   "interpreter": {
    "hash": "31f2aee4e71d21fbe5cf8b01ff0e069b9275f58929596ceb00d14d90e3e16cd6"
   }
  }
 },
 "nbformat": 4,
 "nbformat_minor": 4
}
